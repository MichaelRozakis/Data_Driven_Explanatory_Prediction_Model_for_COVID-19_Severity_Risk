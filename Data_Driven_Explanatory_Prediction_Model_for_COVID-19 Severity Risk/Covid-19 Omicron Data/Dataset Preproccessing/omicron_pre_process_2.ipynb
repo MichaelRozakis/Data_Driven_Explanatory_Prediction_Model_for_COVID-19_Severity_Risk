{
 "cells": [
  {
   "cell_type": "markdown",
   "metadata": {},
   "source": [
    "# Omicron Preprocessing 2\n"
   ]
  },
  {
   "cell_type": "code",
   "execution_count": 9,
   "metadata": {},
   "outputs": [],
   "source": [
    "import pandas as pd\n",
    "import numpy as np\n",
    "from datetime import datetime\n",
    "from xlsxwriter import Workbook\n",
    "from sklearn.impute import KNNImputer\n",
    "from sklearn.experimental import enable_iterative_imputer\n",
    "from sklearn.impute import IterativeImputer\n",
    "from sklearn.ensemble import RandomForestRegressor\n",
    "from sklearn.ensemble import RandomForestClassifier"
   ]
  },
  {
   "cell_type": "code",
   "execution_count": null,
   "metadata": {},
   "outputs": [],
   "source": [
    "# Load the dataset\n",
    "file_path = '/omicron_pre_processed.xlsx'\n",
    "dataset = pd.read_excel(file_path)"
   ]
  },
  {
   "cell_type": "code",
   "execution_count": 11,
   "metadata": {},
   "outputs": [
    {
     "data": {
      "text/plain": [
       "(218, 176)"
      ]
     },
     "execution_count": 11,
     "metadata": {},
     "output_type": "execute_result"
    }
   ],
   "source": [
    "dataset.shape"
   ]
  },
  {
   "cell_type": "code",
   "execution_count": 12,
   "metadata": {},
   "outputs": [
    {
     "data": {
      "text/plain": [
       "Index(['Subject_ID', 'AGE', 'GENDER', 'LOS', 'DAYS OF SYMPTOMS', 'FEVER',\n",
       "       'COUGH', 'FATIGUE', 'DIARRHEAS', 'DYSPNEA',\n",
       "       ...\n",
       "       'Medication_ZYVOXID', 'Medication_AMBISONE', 'Medication_ENOXAPARIN',\n",
       "       'Medication_enoxaparin', 'Medication_PLAVIX', 'Medication_fondaparinux',\n",
       "       'Medication_SINTROM', 'Medication_DAKTARIN', 'Medication_tavanic',\n",
       "       'Medication_cubicin'],\n",
       "      dtype='object', length=176)"
      ]
     },
     "execution_count": 12,
     "metadata": {},
     "output_type": "execute_result"
    }
   ],
   "source": [
    "# Create a mapping for the columns that need to be renamed\n",
    "rename_mapping = {\n",
    "    'pregnant': 'Pregnant',\n",
    "    'Cr': 'CR',\n",
    "    'Na': 'NA',\n",
    "    'Medication_VONCON': 'Medication_voncon',\n",
    "    'Medication_TYGACIL': 'Medication_tygacil',\n",
    "    'Medication_AMBISOME': 'Medication_ambisome',\n",
    "    'Medication_VIBRAMYCIN': 'Medication_vibramycin',\n",
    "    'Medication_BRESEC': 'Medication_bresec',\n",
    "    'Medication_TARGOCID': 'Medication_targocid',\n",
    "    'carotid_stenosis': 'Carotid_Stenosis',\n",
    "    'Medication_FLAGYL': 'Medication_flagyl',\n",
    "    'Medication_CIPROXIN': 'Medication_ciproxin',\n",
    "    'Medication_TINZAPARIN': 'Medication_tinzaparin',\n",
    "    'Medication_ZOVIRAX': 'Medication_zovirax',\n",
    "    'Medication_BACTRIMEL': 'Medication_bactrimel',\n",
    "    'Medication_MEDROL': 'Medication_medrol',\n",
    "    'Medication_GARAMYCIN': 'Medication_garamycin',\n",
    "    'Medication_ECALTA': 'Medication_ecalta',\n",
    "    'Medication_CUBICIN': 'Medication_cubicin',\n",
    "    'Na': 'NA',\n",
    "    'Medication_TAVANIC': 'Medication_tavanic',\n",
    "    'Medication_MERONEM': 'Medication_meronem',\n",
    "    'Medication_DALACIN': 'Medication_dalacin',\n",
    "    'Medication_ZAVICEFTA': 'Medication_zavicefta',\n",
    "    'Medication_FUNGUSTATIN': 'Medication_fungustatin',\n",
    "    'Medication_BRIKLIN': 'Medication_briklin',\n",
    "    'Medication_FONDAPARINUX': 'Medication_fondaparinux',\n",
    "    'Medication_MEFOXIL': 'Medication_mefoxil',\n",
    "    'Medication_ROCEPHIN': 'Medication_rocephin'\n",
    "}\n",
    "\n",
    "# Rename columns in delta_pre_processed dataframe\n",
    "delta_renamed = dataset.rename(columns=rename_mapping)\n",
    "\n",
    "# Verify the renaming\n",
    "renamed_columns = delta_renamed.columns\n",
    "\n",
    "renamed_columns\n"
   ]
  },
  {
   "cell_type": "code",
   "execution_count": 13,
   "metadata": {},
   "outputs": [
    {
     "data": {
      "text/plain": [
       "Index(['Subject_ID', 'AGE', 'GENDER', 'LOS', 'DAYS OF SYMPTOMS', 'FEVERx',\n",
       "       'COUGHx', 'FATIGUEx', 'DIARRHEASx', 'DYSPNEAx',\n",
       "       ...\n",
       "       'Medication_zyvoxid', 'Medication_AMBISONE', 'Medication_enoxaparin',\n",
       "       'Medication_enoxaparin', 'Medication_PLAVIX', 'Medication_fondaparinux',\n",
       "       'Medication_SINTROM', 'Medication_DAKTARIN', 'Medication_tavanic',\n",
       "       'Medication_cubicin'],\n",
       "      dtype='object', length=176)"
      ]
     },
     "execution_count": 13,
     "metadata": {},
     "output_type": "execute_result"
    }
   ],
   "source": [
    "# Correct matches and remove incorrect ones\n",
    "correct_matches = {\n",
    "    'COUGH': 'COUGHx',\n",
    "    'DIARRHEAS': 'DIARRHEASx',\n",
    "    'DYSPNEA': 'DYSPNEAx',\n",
    "    'FATIGUE': 'FATIGUEx',\n",
    "    'FEVER': 'FEVERx',\n",
    "    'FIO2 eisagwgh': 'FIO2 eisagwgh_cleaned',\n",
    "    'D-DIMERS': 'D-DIMERS_cleaned',\n",
    "    'Medication_AVELOX': 'Medication_avelox',\n",
    "    'Medication_AMBISOME': 'Medication_ambisome',\n",
    "    'Medication_BACTRIMEL': 'Medication_bactrimel',\n",
    "    'Medication_BRESEC': 'Medication_bresec',\n",
    "    'Medication_BRIKLIN': 'Medication_briklin',\n",
    "    'Medication_CIPROXIN': 'Medication_ciproxin',\n",
    "    'Medication_CUBICIN': 'Medication_cubicin',\n",
    "    'Medication_DALACIN': 'Medication_dalacin',\n",
    "    'Medication_ECALTA': 'Medication_ecalta',\n",
    "    'Medication_ENOXAPARIN': 'Medication_enoxaparin',\n",
    "    'Medication_FLAGYL': 'Medication_flagyl',\n",
    "    'Medication_FONDAPARINUX': 'Medication_fondaparinux',\n",
    "    'Medication_FUNGUSTATIN': 'Medication_fungustatin',\n",
    "    'Medication_GARAMYCIN': 'Medication_garamycin',\n",
    "    'Medication_MEDROL': 'Medication_medrol',\n",
    "    'Medication_MEFOXIL': 'Medication_mefoxil',\n",
    "    'Medication_MERONEM': 'Medication_meronem',\n",
    "    'Medication_ROCEPHIN': 'Medication_rocephin',\n",
    "    'Medication_TARGOCID': 'Medication_targocid',\n",
    "    'Medication_TAVANIC': 'Medication_tavanic',\n",
    "    'Medication_TAZOCIN': 'Medication_tazocin',\n",
    "    'Medication_TINZAPARIN': 'Medication_tinzaparin',\n",
    "    'Medication_TYGACIL': 'Medication_tygacil',\n",
    "    'Medication_VIBRAMYCIN': 'Medication_vibramycin',\n",
    "    'Medication_VONCON': 'Medication_voncon',\n",
    "    'Medication_ZAVICEFTA': 'Medication_zavicefta',\n",
    "    'Medication_ZINFORO': 'Medication_zinforo',\n",
    "    'Medication_ZITHROMAX': 'Medication_zithromax',\n",
    "    'Medication_ZOVIRAX': 'Medication_zovirax',\n",
    "    'Medication_ZYVOXID': 'Medication_zyvoxid'\n",
    "}\n",
    "\n",
    "# Rename the columns in delta_pre_processed dataframe based on the correct matches\n",
    "delta_renamed2 = delta_renamed.rename(columns=correct_matches)\n",
    "\n",
    "# Verify the renaming\n",
    "renamed_columns = delta_renamed2.columns\n",
    "\n",
    "\n",
    "renamed_columns\n"
   ]
  },
  {
   "cell_type": "code",
   "execution_count": null,
   "metadata": {},
   "outputs": [],
   "source": [
    "correspondence = {\n",
    "    'ANAKINRA_Processed': None,\n",
    "    'Abdominal_Aortic_Aneurysm': None,\n",
    "    'Acne': None,\n",
    "    'Alcohol': None,\n",
    "    'Anemia': None,\n",
    "    'Ankylosing_Spondylitis': None,\n",
    "    'Aortic_Aneurysm': None,\n",
    "    'Aortic_Valve_Plasty': None,\n",
    "    'BARITICINIB_Processed': None,\n",
    "    'BMI': None,\n",
    "    'Bedridden': None,\n",
    "    'Beta_Thalassemia_Heterozygous': None,\n",
    "    'Body_Mass_Index': None,\n",
    "    'CM/AF_Presence': 'CM/AF',\n",
    "    'CM/CAD_Presence': 'CM/CAD',\n",
    "    'CM/CHF_Presence': 'CM/CHF',\n",
    "    'CM/CNS_Presence': 'CM/CNS',\n",
    "    'CM/COPD_Presence': 'CM/COPD',\n",
    "    'CM/DM_Presence': 'CM/DM',\n",
    "    'CM/GI_Presence': 'CM/GI',\n",
    "    'CM/HBP_Presence': 'CM/HBP',\n",
    "    'CM/asthma_Presence': 'CM/asthma',\n",
    "    'CM/lipid_Presence': 'CM/lipid',\n",
    "    'CM/metabolic/other_Presence': 'CM/metabolic/other',\n",
    "    'CM/neoplasm_Presence': 'CM/neoplasm',\n",
    "    'CM/renal_Presence': 'CM/renal',\n",
    "    'Carotid_Atherosclerosis': None,\n",
    "    'Chronic_Kidney_Disease': None,\n",
    "    'Chronic_Lymphocytic_Leukemia': None,\n",
    "    'DEXATON_Processed': None,\n",
    "    'DM REGISTRY_Presence': None,\n",
    "    'Hemolytic_Anemia': None,\n",
    "    'Hepatitis_B_Virus': None,\n",
    "    'Heterozygous_Factor_V_Leiden': None,\n",
    "    'INFILTRATE_numerical': 'infiltrate_int',\n",
    "    'Idiopathic_Tremor': None,\n",
    "    'Intellectual_Disability': None,\n",
    "    'KALETRA_Processed': None,\n",
    "    'Leukemia': None,\n",
    "    'Lymphoma': None,\n",
    "    'Medication_abixaban': None,\n",
    "    'Medication_augmentin': None,\n",
    "    'Medication_begalin': None,\n",
    "    'Medication_caspofungin': None,\n",
    "    'Medication_colchicine': None,\n",
    "    'Medication_colistin': 'Medication_COLLISTIN',\n",
    "    'Medication_fosfomycin': None,\n",
    "    'Medication_minocin': None,\n",
    "    'Medication_rivaroxaban': None,\n",
    "    'Medication_solumedrol': None,\n",
    "    'Medication_solvetan': None,\n",
    "    'Medication_tigacil': None,\n",
    "    'Medication_xymbalta': None,\n",
    "    'Medication_zebaxa': None,\n",
    "    'Medication_zerbaxa': None,\n",
    "    'Medication_zinforo_': 'Medication_zinforo.1',\n",
    "    'Medication_zovirax_solucortef': None,\n",
    "    'Metallic_Valve': None,\n",
    "    'Multiple_Myeloma': None,\n",
    "    'Myelodysplastic_Syndrome': None,\n",
    "    'NON_HODGKIN_': None,\n",
    "    'Nephrolithiasis': None,\n",
    "    'PLAQUENIL_Processed': None,\n",
    "    'Pacemaker': None,\n",
    "    'Psychiatric_Disorder': None,\n",
    "    'Pulmonary_Embolism': 'pe_years_ago',\n",
    "    'REMDESIVIR_Processed': None,\n",
    "    'Recurrent_Pregnancy': None,\n",
    "    'Renal_Infarction': None,\n",
    "    'Sarcoidosis': None,\n",
    "    'TAMIFLU_Processed': None,\n",
    "    'TOCILIZUMAB_Processed': None,\n",
    "    'Tuberculosis': None,\n",
    "    'URTIx': 'URTI',\n",
    "    'Uricemia': None,\n",
    "    'cm/autoimm_Presence': 'cm/autoimm'\n",
    "}\n",
    "# Create a dictionary for renaming columns in the dataset\n",
    "rename_dict = {v: k for k, v in correspondence.items() if v is not None}\n",
    "\n",
    "# Renaming columns in dataset\n",
    "delta_renamed3 = delta_renamed2.rename(columns=rename_dict)\n"
   ]
  }
 ],
 "metadata": {
  "kernelspec": {
   "display_name": "base",
   "language": "python",
   "name": "python3"
  },
  "language_info": {
   "codemirror_mode": {
    "name": "ipython",
    "version": 3
   },
   "file_extension": ".py",
   "mimetype": "text/x-python",
   "name": "python",
   "nbconvert_exporter": "python",
   "pygments_lexer": "ipython3",
   "version": "3.9.16"
  }
 },
 "nbformat": 4,
 "nbformat_minor": 2
}
