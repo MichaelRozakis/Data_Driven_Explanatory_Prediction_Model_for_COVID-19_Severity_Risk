{
 "cells": [
  {
   "cell_type": "markdown",
   "metadata": {},
   "source": [
    "# FINAL FIT\n"
   ]
  },
  {
   "cell_type": "code",
   "execution_count": null,
   "metadata": {},
   "outputs": [],
   "source": [
    "import pandas as pd\n",
    "\n",
    "final_preprocessed = pd.read_excel('/Final_preprocessed_COVID19_dataset.xlsx')\n",
    "delta_pre_processed = pd.read_excel('/Omicron_pre_processed3Vacc.xlsx')"
   ]
  },
  {
   "cell_type": "code",
   "execution_count": 9,
   "metadata": {},
   "outputs": [],
   "source": [
    "# Get the unique columns in each dataset\n",
    "delta_columns = set(delta_pre_processed.columns)\n",
    "final_columns = set(final_preprocessed.columns)\n"
   ]
  },
  {
   "cell_type": "code",
   "execution_count": 10,
   "metadata": {},
   "outputs": [],
   "source": [
    "unique_delta_columns = delta_columns - final_columns\n",
    "unique_final_columns = final_columns - delta_columns"
   ]
  },
  {
   "cell_type": "code",
   "execution_count": 11,
   "metadata": {},
   "outputs": [],
   "source": [
    "# Renaming specific columns in delta dataset\n",
    "delta_pre_processed.rename(columns={\n",
    "    'Renal_and_Urological_Conditions': 'Renal_Infarction',\n",
    "    'tCPAP_numerical': 'tCPAP',\n",
    "    'GSC': 'GSC_cleaned'\n",
    "}, inplace=True)\n",
    "\n",
    "# Identify columns to keep and columns to delete\n",
    "columns_to_keep = {'VACCINATED'}\n",
    "columns_to_delete = set(delta_pre_processed.columns) - set(final_preprocessed.columns) - columns_to_keep\n",
    "\n",
    "# Delete the identified columns\n",
    "delta_pre_processed.drop(columns=columns_to_delete, inplace=True)\n",
    "\n",
    "# Identify the unique columns in final dataset that need to be added to delta dataset\n",
    "extra_columns_to_add = set(final_preprocessed.columns) - set(delta_pre_processed.columns)\n",
    "\n",
    "# Add the extra columns to delta dataset with 0 as values\n",
    "for column in extra_columns_to_add:\n",
    "    delta_pre_processed[column] = 0\n",
    "\n",
    "# Ensure the columns are in the same order as final dataset\n",
    "delta_pre_processed = delta_pre_processed[final_preprocessed.columns.tolist() + list(columns_to_keep)]\n",
    "\n"
   ]
  },
  {
   "cell_type": "code",
   "execution_count": null,
   "metadata": {},
   "outputs": [],
   "source": [
    "# Save the updated delta dataset to a new Excel file\n",
    "delta_pre_processed.to_excel('/Updated_Delta_pre_processed3Vacc.xlsx', index=False)"
   ]
  },
  {
   "cell_type": "code",
   "execution_count": null,
   "metadata": {},
   "outputs": [],
   "source": [
    "# Split the dataset based on the VACCINATED column\n",
    "vaccinated_dataset = delta_pre_processed[delta_pre_processed['VACCINATED'] == 1].copy()\n",
    "not_vaccinated_dataset = delta_pre_processed[delta_pre_processed['VACCINATED'] == 0].copy()\n",
    "\n",
    "# Delete the VACCINATED column from both datasets\n",
    "vaccinated_dataset.drop(columns=['VACCINATED'], inplace=True)\n",
    "not_vaccinated_dataset.drop(columns=['VACCINATED'], inplace=True)\n",
    "\n",
    "# Save the split datasets to new Excel files\n",
    "vaccinated_dataset.to_excel('/Vaccinated_Dataset.xlsx', index=False)\n",
    "not_vaccinated_dataset.to_excel('Not_Vaccinated_Dataset.xlsx', index=False)\n",
    "\n",
    "\n"
   ]
  }
 ],
 "metadata": {
  "kernelspec": {
   "display_name": "base",
   "language": "python",
   "name": "python3"
  },
  "language_info": {
   "codemirror_mode": {
    "name": "ipython",
    "version": 3
   },
   "file_extension": ".py",
   "mimetype": "text/x-python",
   "name": "python",
   "nbconvert_exporter": "python",
   "pygments_lexer": "ipython3",
   "version": "3.9.16"
  }
 },
 "nbformat": 4,
 "nbformat_minor": 2
}
